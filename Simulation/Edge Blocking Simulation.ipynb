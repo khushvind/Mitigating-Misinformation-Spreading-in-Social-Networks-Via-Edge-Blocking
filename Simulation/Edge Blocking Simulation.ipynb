{
 "cells": [
  {
   "cell_type": "markdown",
   "metadata": {},
   "source": [
    "# Import Packages And Functions"
   ]
  },
  {
   "cell_type": "code",
   "execution_count": 1,
   "metadata": {},
   "outputs": [],
   "source": [
    "# Packages\n",
    "import sys; sys.path.append('..')\n",
    "from Code.data import data_load\n",
    "import Code.influence as influence\n",
    "import Code.block_edges as be\n",
    "import Code.communities as communities\n",
    "import networkx as nx"
   ]
  },
  {
   "cell_type": "markdown",
   "metadata": {},
   "source": [
    "# Load The Dataset"
   ]
  },
  {
   "cell_type": "code",
   "execution_count": null,
   "metadata": {},
   "outputs": [],
   "source": [
    "Graph_To_Be_Used = 'facebook'\n",
    "\n",
    "path = '../data/edges_'+Graph_To_Be_Used+'.txt'  # dataset file path\n",
    "init_rate = 0.001 # Initial fraction of seed nodes\n",
    "k = 0.01 # Fraction of Edges to be Blocked\n",
    "\n",
    "\n",
    "nodes, edges, weights = data_load(path)\n",
    "graph = nx.Graph()\n",
    "min_wt = min(weights.values())\n",
    "eps = min_wt*0.001\n",
    "wt_factor = 1\n",
    "for e in edges:\n",
    "    graph.add_edge(e[0],e[1], weight = weights[e]/wt_factor, distance = 1-weights[e]+eps)\n",
    "\n",
    "print (\"No of edges to be removed:\", int(k*len(edges)))\n",
    "print ('No of Initial Seeds:', int(init_rate*len(nodes)))\n",
    "print (\"Clustering Coeff: \",nx.average_clustering(graph))\n",
    "print (\"Average Deg: \", len(graph.edges)*2/len(graph.nodes))"
   ]
  },
  {
   "cell_type": "markdown",
   "metadata": {},
   "source": [
    "# Average Number Of Nodes Infected Initially"
   ]
  },
  {
   "cell_type": "code",
   "execution_count": null,
   "metadata": {},
   "outputs": [],
   "source": [
    "iters = 100 # Number of Iterations of The ICM\n",
    "a = influence.influence_count_multiple(graph,init_rate,iters)\n",
    "b = 100*(a/len(nodes))\n",
    "print (\"Nodes Infected = \",a, \"Percentage = \", b)"
   ]
  },
  {
   "cell_type": "markdown",
   "metadata": {},
   "source": [
    "# RNDM Method"
   ]
  },
  {
   "cell_type": "code",
   "execution_count": null,
   "metadata": {},
   "outputs": [],
   "source": [
    "output = be.RNDM(graph)\n",
    "final_graph = be.rem_edges(graph.copy(),output,k)\n",
    "\n",
    "a = influence.influence_count_multiple(final_graph,init_rate,iters)\n",
    "b = 100*(a/len(nodes))\n",
    "print (\"After Blocking Edges Randomly:\")\n",
    "print (\"Nodes Infected = \",a, \"Percentage = \", b)"
   ]
  },
  {
   "cell_type": "markdown",
   "metadata": {},
   "source": [
    "# HWT Method"
   ]
  },
  {
   "cell_type": "code",
   "execution_count": null,
   "metadata": {},
   "outputs": [],
   "source": [
    "output = be.HWGT(graph)\n",
    "final_graph = be.rem_edges(graph.copy(),output,k)\n",
    "\n",
    "a = influence.influence_count_multiple(final_graph,init_rate,iters)\n",
    "b = 100*(a/len(nodes))\n",
    "print (\"After Blocking Edges With Heighest Weight:\")\n",
    "print (\"Nodes Infected = \",a, \"Percentage = \", b)"
   ]
  },
  {
   "cell_type": "markdown",
   "metadata": {},
   "source": [
    "# DEG Method"
   ]
  },
  {
   "cell_type": "code",
   "execution_count": null,
   "metadata": {},
   "outputs": [],
   "source": [
    "output = be.HDEG(graph)\n",
    "final_graph = be.rem_edges(graph.copy(),output,k)\n",
    "\n",
    "a = influence.influence_count_multiple(final_graph,init_rate,iters)\n",
    "b = 100*(a/len(nodes))\n",
    "print (\"After Blocking Edges With Heighest Sum of Degrees of Adjacent Nodes:\")\n",
    "print (\"Nodes Infected = \",a, \"Percentage = \", b)"
   ]
  },
  {
   "cell_type": "markdown",
   "metadata": {},
   "source": [
    "# WDEG Method"
   ]
  },
  {
   "cell_type": "code",
   "execution_count": null,
   "metadata": {},
   "outputs": [],
   "source": [
    "output = be.WDEG(graph)\n",
    "final_graph = be.rem_edges(graph.copy(),output,k)\n",
    "\n",
    "a = influence.influence_count_multiple(final_graph,init_rate,iters)\n",
    "b = 100*(a/len(nodes))\n",
    "print (\"After Blocking Edges With Heighest Sum of Weighted Degrees of Adjacent Nodes:\")\n",
    "print (\"Nodes Infected = \",a, \"Percentage = \", b)"
   ]
  },
  {
   "cell_type": "markdown",
   "metadata": {},
   "source": [
    "# CLO Method"
   ]
  },
  {
   "cell_type": "code",
   "execution_count": null,
   "metadata": {},
   "outputs": [],
   "source": [
    "output = be.CLO(graph)\n",
    "final_graph = be.rem_edges(graph.copy(),output,k)\n",
    "\n",
    "a = influence.influence_count_multiple(final_graph,init_rate,iters)\n",
    "b = 100*(a/len(nodes))\n",
    "print (\"After Blocking Edges With Heighest Sum of Closeness of Adjacent Nodes:\")\n",
    "print (\"Nodes Infected = \",a, \"Percentage = \", b)"
   ]
  },
  {
   "cell_type": "markdown",
   "metadata": {},
   "source": [
    "# WCLO Method"
   ]
  },
  {
   "cell_type": "code",
   "execution_count": null,
   "metadata": {},
   "outputs": [],
   "source": [
    "output = be.WCLO(graph)\n",
    "final_graph = be.rem_edges(graph.copy(),output,k)\n",
    "\n",
    "a = influence.influence_count_multiple(final_graph,init_rate,iters)\n",
    "b = 100*(a/len(nodes))\n",
    "print (\"After Blocking Edges With Heighest Sum of Weighted Closeness of Adjacent Nodes:\")\n",
    "print (\"Nodes Infected = \",a, \"Percentage = \", b)"
   ]
  },
  {
   "cell_type": "markdown",
   "metadata": {},
   "source": [
    "# BET Method"
   ]
  },
  {
   "cell_type": "code",
   "execution_count": null,
   "metadata": {},
   "outputs": [],
   "source": [
    "output = be.BTWN(graph)\n",
    "final_graph = be.rem_edges(graph.copy(),output,k)\n",
    "\n",
    "a = influence.influence_count_multiple(final_graph,init_rate,iters)\n",
    "b = 100*(a/len(nodes))\n",
    "print (\"After Blocking Edges With Heighest Betweenness:\")\n",
    "print (\"Nodes Infected = \",a, \"Percentage = \", b)"
   ]
  },
  {
   "cell_type": "markdown",
   "metadata": {},
   "source": [
    "# WBET Method"
   ]
  },
  {
   "cell_type": "code",
   "execution_count": null,
   "metadata": {},
   "outputs": [],
   "source": [
    "output = be.WBET(graph)\n",
    "final_graph = be.rem_edges(graph.copy(),output,k)\n",
    "\n",
    "a = influence.influence_count_multiple(final_graph,init_rate,iters)\n",
    "b = 100*(a/len(nodes))\n",
    "print (\"After Blocking Edges With Heighest Weighted Betweenness:\")\n",
    "print (\"Nodes Infected = \",a, \"Percentage = \", b)"
   ]
  },
  {
   "cell_type": "markdown",
   "metadata": {},
   "source": [
    "# PGRK Method"
   ]
  },
  {
   "cell_type": "code",
   "execution_count": null,
   "metadata": {},
   "outputs": [],
   "source": [
    "output = be.PGRK(graph)\n",
    "final_graph = be.rem_edges(graph.copy(),output,k)\n",
    "\n",
    "a = influence.influence_count_multiple(final_graph,init_rate,iters)\n",
    "b = 100*(a/len(nodes))\n",
    "print (\"After Blocking Edges With Heighest Sum Of Pagerank of Adjacent Nodes:\")\n",
    "print (\"Nodes Infected = \",a, \"Percentage = \", b)"
   ]
  },
  {
   "cell_type": "markdown",
   "metadata": {},
   "source": [
    "# IEED Method"
   ]
  },
  {
   "cell_type": "code",
   "execution_count": null,
   "metadata": {},
   "outputs": [],
   "source": [
    "edge_list = be.IEED_remove_edges(nodes.copy(),edges.copy(),weights,k)\n",
    "final_graph = nx.Graph()\n",
    "min_wt = min(weights.values())\n",
    "eps = min_wt*0.001\n",
    "wt_factor = 1\n",
    "for e in edge_list:\n",
    "    final_graph.add_edge(e[0],e[1], weight = weights[e]/wt_factor, distance = 1-weights[e]+eps)\n",
    "\n",
    "\n",
    "a = influence.influence_count_multiple(final_graph,init_rate,iters)\n",
    "b = 100*(a/len(nodes))\n",
    "print (\"After Blocking Edges using IEED:\")\n",
    "print (\"Nodes Infected = \",a, \"Percentage = \", b)"
   ]
  },
  {
   "cell_type": "markdown",
   "metadata": {},
   "source": [
    "# Community Method"
   ]
  },
  {
   "cell_type": "markdown",
   "metadata": {},
   "source": [
    "## Community Detection And Edge Removal"
   ]
  },
  {
   "cell_type": "code",
   "execution_count": null,
   "metadata": {},
   "outputs": [],
   "source": [
    "# Select the initial 'resolution parameter' and the 'increasing factor'. This needs to be done manually, and results will vary depending on the dataset.\n",
    "resolution = 0.15\n",
    "increasing_factor = 1.05\n",
    "\n",
    "happened = 0\n",
    "best_p_conn = 0\n",
    "found = ([],[],[])\n",
    "\n",
    "while happened <= 5:\n",
    "    for i in range(5):\n",
    "        comm = communities.detect_communities(graph,resolution)\n",
    "        conn_edges,comm_edges, conn_nodes = communities.connecting_edges(comm,graph)\n",
    "        p_conn = (len(conn_edges)/(len(edges))) # Percentage of connecting edges\n",
    "        print ('fraction of connecting edges', p_conn)\n",
    "        if (p_conn <=k) & (p_conn > best_p_conn):\n",
    "            found = conn_edges\n",
    "            best_p_conn = p_conn\n",
    "        \n",
    "    resolution *= increasing_factor\n",
    "    if p_conn >k:\n",
    "        happened += 1\n",
    "    print ('Resolution: ',resolution)\n",
    "\n",
    "final_graph = communities.graph_after_rem_edges(found,graph.copy())"
   ]
  },
  {
   "cell_type": "markdown",
   "metadata": {},
   "source": [
    "## ICM After Edge Removal"
   ]
  },
  {
   "cell_type": "code",
   "execution_count": null,
   "metadata": {},
   "outputs": [],
   "source": [
    "a = influence.influence_count_multiple(final_graph,init_rate,iters)\n",
    "b = 100*(a/len(nodes))\n",
    "print (\"After Blocking Edges Connecting Different Communities:\")\n",
    "print (\"Nodes Infected = \", a, \"Percentage = \", b)"
   ]
  }
 ],
 "metadata": {
  "kernelspec": {
   "display_name": "social_networks",
   "language": "python",
   "name": "python3"
  },
  "language_info": {
   "codemirror_mode": {
    "name": "ipython",
    "version": 3
   },
   "file_extension": ".py",
   "mimetype": "text/x-python",
   "name": "python",
   "nbconvert_exporter": "python",
   "pygments_lexer": "ipython3",
   "version": "3.9.15"
  },
  "vscode": {
   "interpreter": {
    "hash": "ef8389838ffd930e5401606dec0f3266043eb81a0d180baa40b572d4398d4b00"
   }
  }
 },
 "nbformat": 4,
 "nbformat_minor": 2
}
