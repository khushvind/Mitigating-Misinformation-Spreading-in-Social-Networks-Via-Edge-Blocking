{
 "cells": [
  {
   "cell_type": "markdown",
   "metadata": {},
   "source": [
    "# Import Packages And Functions"
   ]
  },
  {
   "cell_type": "code",
   "execution_count": null,
   "metadata": {},
   "outputs": [],
   "source": [
    "import sys; sys.path.append('..')\n",
    "from Code.data import data_load\n",
    "import Code.influence as influence\n",
    "import networkx as nx"
   ]
  },
  {
   "cell_type": "markdown",
   "metadata": {},
   "source": [
    "# Load The Dataset"
   ]
  },
  {
   "cell_type": "code",
   "execution_count": null,
   "metadata": {},
   "outputs": [],
   "source": [
    "Graph_To_Be_Used = 'facebook'\n",
    "\n",
    "path = '../data/edges_'+Graph_To_Be_Used+'.txt'  # dataset file path\n",
    "init_rate = 0.001\n",
    "\n",
    "nodes, edges, weights = data_load(path)\n",
    "graph = nx.Graph()\n",
    "min_wt = min(weights.values())\n",
    "eps = min_wt*0.001\n",
    "wt_factor = 1\n",
    "for e in edges:\n",
    "    graph.add_edge(e[0],e[1], weight = weights[e]/wt_factor, distance = 1-weights[e]+eps)\n",
    "\n",
    "print ('No of Initial Seeds', int(init_rate*len(nodes)))\n",
    "print (\"Clustering Coeff: \",nx.average_clustering(graph))\n",
    "print (\"Average Deg: \", len(graph.edges)*2/len(graph.nodes))"
   ]
  },
  {
   "cell_type": "markdown",
   "metadata": {},
   "source": [
    "# Nodes Infected In One Iteration of ICM"
   ]
  },
  {
   "cell_type": "code",
   "execution_count": null,
   "metadata": {},
   "outputs": [],
   "source": [
    "a = influence.influence_count_multiple(graph,init_rate,1)\n",
    "print (\"Nodes Infected = \",a, \"Percentage = \",100*(a/len(nodes)))"
   ]
  },
  {
   "cell_type": "markdown",
   "metadata": {},
   "source": [
    "# Average Number Of Nodes Infected In 'iters' Iterations of ICM"
   ]
  },
  {
   "cell_type": "code",
   "execution_count": null,
   "metadata": {},
   "outputs": [],
   "source": [
    "# 'sets_of_seeds' is the number of different sets of sources of misinformation considered.\n",
    "# 'iters' is the number of times ICM runs for each set of seeds\n",
    "sets_of_seeds = 10\n",
    "iters = 10\n",
    "\n",
    "s = 0\n",
    "for i in range(sets_of_seeds):\n",
    "    a = influence.influence_count_multiple(graph,init_rate,iters)\n",
    "    b = 100*(a/len(nodes))\n",
    "    s += b\n",
    "    print (\" Nodes Infected = \",a, \", Percentage = \", b)\n",
    "\n",
    "print (\"Average =\", s/sets_of_seeds)"
   ]
  }
 ],
 "metadata": {
  "kernelspec": {
   "display_name": "social_networks",
   "language": "python",
   "name": "python3"
  },
  "language_info": {
   "codemirror_mode": {
    "name": "ipython",
    "version": 3
   },
   "file_extension": ".py",
   "mimetype": "text/x-python",
   "name": "python",
   "nbconvert_exporter": "python",
   "pygments_lexer": "ipython3",
   "version": "3.9.15"
  },
  "vscode": {
   "interpreter": {
    "hash": "ef8389838ffd930e5401606dec0f3266043eb81a0d180baa40b572d4398d4b00"
   }
  }
 },
 "nbformat": 4,
 "nbformat_minor": 2
}
